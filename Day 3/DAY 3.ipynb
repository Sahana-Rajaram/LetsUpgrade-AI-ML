{
 "cells": [
  {
   "cell_type": "code",
   "execution_count": 1,
   "metadata": {},
   "outputs": [
    {
     "name": "stdout",
     "output_type": "stream",
     "text": [
      "the subtraction of two complex numbers c= (-6-4j)\n"
     ]
    }
   ],
   "source": [
    "a=2+3j\n",
    "b=8+7j\n",
    "c=a-b\n",
    "print(\"the subtraction of two complex numbers c=\",c)"
   ]
  },
  {
   "cell_type": "code",
   "execution_count": 2,
   "metadata": {},
   "outputs": [
    {
     "name": "stdout",
     "output_type": "stream",
     "text": [
      "enter the number544\n",
      "enter the root4\n",
      "4.829472805532836\n"
     ]
    }
   ],
   "source": [
    "num=int(input(\"enter the number\"))\n",
    "root=int(input(\"enter the root\"))\n",
    "c=(num**(1.0/root))\n",
    "print(c)\n",
    "\n"
   ]
  },
  {
   "cell_type": "code",
   "execution_count": 3,
   "metadata": {},
   "outputs": [
    {
     "name": "stdout",
     "output_type": "stream",
     "text": [
      "4.038502993721819\n"
     ]
    }
   ],
   "source": [
    "num=266\n",
    "root=4\n",
    "c=(num**(1.0/4))\n",
    "print(c)"
   ]
  },
  {
   "cell_type": "code",
   "execution_count": 4,
   "metadata": {},
   "outputs": [
    {
     "name": "stdout",
     "output_type": "stream",
     "text": [
      "enter a number a=66\n",
      "enter a number b=22\n",
      "a= 22\n",
      "b= 66\n",
      "c= 66\n"
     ]
    }
   ],
   "source": [
    "a=input(\"enter a number a=\")\n",
    "b=input(\"enter a number b=\")\n",
    "c=a\n",
    "a=b\n",
    "b=c\n",
    "print(\"a=\",a)\n",
    "print(\"b=\",b)\n",
    "print(\"c=\",c)\n"
   ]
  },
  {
   "cell_type": "code",
   "execution_count": 5,
   "metadata": {},
   "outputs": [
    {
     "name": "stdout",
     "output_type": "stream",
     "text": [
      "enter a number a=100\n",
      "enter a number b=55\n",
      "55 100\n"
     ]
    }
   ],
   "source": [
    "a=input(\"enter a number a=\")\n",
    "b=input(\"enter a number b=\")\n",
    "a,b=b,a\n",
    "print(a,b)"
   ]
  },
  {
   "cell_type": "code",
   "execution_count": 6,
   "metadata": {},
   "outputs": [
    {
     "name": "stdout",
     "output_type": "stream",
     "text": [
      "enter the temperature f=120\n",
      "celsius = 322.3888888888889\n",
      "kelvin= 48.88888888888889\n"
     ]
    }
   ],
   "source": [
    "f=float(input(\"enter the temperature f=\"))\n",
    "celsius=273.5+((f-32.0)*(5.0/9.0))\n",
    "print(\"celsius =\",celsius)\n",
    "kelvin=((f-32)*(5.0/9.0))\n",
    "print(\"kelvin=\",kelvin)"
   ]
  },
  {
   "cell_type": "code",
   "execution_count": 7,
   "metadata": {},
   "outputs": [
    {
     "name": "stdout",
     "output_type": "stream",
     "text": [
      "<class 'int'>\n",
      "<class 'float'>\n",
      "<class 'complex'>\n",
      "<class 'tuple'>\n",
      "<class 'list'>\n",
      "<class 'str'>\n",
      "<class 'dict'>\n"
     ]
    }
   ],
   "source": [
    "x=10\n",
    "y=100000.5\n",
    "c=2+3j\n",
    "a=('AI','deep learning','ml')\n",
    "b=[1,2,3,4,5]\n",
    "d=\"letsupgrade\"\n",
    "e={'AI ML':2020}\n",
    "\n",
    "print(type(x))\n",
    "print(type(y))\n",
    "print(type(c))\n",
    "print(type(a))\n",
    "print(type(b))\n",
    "print(type(d))\n",
    "print(type(e))\n",
    "   "
   ]
  },
  {
   "cell_type": "markdown",
   "metadata": {},
   "source": [
    "#  GITHUB\n",
    "  \n",
    "1. Create the **Github** profile\n",
    "2. click *repository* \n",
    "3. Then in *repository name* give**LetsUpgrade AI/ML**\n",
    "4. upload the file and keep in *public*.Name the file as **day 3**\n",
    "5. Next in the given **GOOGLE FORM** copy the *URL* of the assingnment link and **SUBMIT** N\n"
   ]
  },
  {
   "cell_type": "code",
   "execution_count": 8,
   "metadata": {},
   "outputs": [
    {
     "data": {
      "text/plain": [
       "'C:\\\\Users\\\\admin'"
      ]
     },
     "execution_count": 8,
     "metadata": {},
     "output_type": "execute_result"
    }
   ],
   "source": [
    "import os\n",
    "os.getcwd()\n"
   ]
  },
  {
   "cell_type": "code",
   "execution_count": null,
   "metadata": {},
   "outputs": [],
   "source": []
  }
 ],
 "metadata": {
  "kernelspec": {
   "display_name": "Python 3",
   "language": "python",
   "name": "python3"
  },
  "language_info": {
   "codemirror_mode": {
    "name": "ipython",
    "version": 3
   },
   "file_extension": ".py",
   "mimetype": "text/x-python",
   "name": "python",
   "nbconvert_exporter": "python",
   "pygments_lexer": "ipython3",
   "version": "3.7.6"
  }
 },
 "nbformat": 4,
 "nbformat_minor": 4
}
